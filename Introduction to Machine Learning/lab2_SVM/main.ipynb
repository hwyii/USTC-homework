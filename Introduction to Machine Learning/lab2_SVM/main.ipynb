{
 "cells": [
  {
   "cell_type": "code",
   "execution_count": 2,
   "metadata": {},
   "outputs": [],
   "source": [
    "import numpy as np\n",
    "import time"
   ]
  },
  {
   "cell_type": "markdown",
   "metadata": {},
   "source": [
    "## Generate data"
   ]
  },
  {
   "cell_type": "code",
   "execution_count": 3,
   "metadata": {},
   "outputs": [],
   "source": [
    "# In real world, you cannot learn how the data was generated. So do not rely on this function when coding your lab.\n",
    "def generate_data(dim, num):\n",
    "    x = np.random.normal(0, 10, [num, dim])\n",
    "    coef = np.random.uniform(-1, 1, [dim, 1])\n",
    "    pred = np.dot(x, coef)\n",
    "    pred_n = (pred - np.mean(pred)) / np.sqrt(np.var(pred))\n",
    "    label = np.sign(pred_n)\n",
    "    mislabel_value = np.random.uniform(0, 1, num)\n",
    "    mislabel = 0\n",
    "    for i in range(num):\n",
    "        if np.abs(pred_n[i]) < 1 and mislabel_value[i] > 0.9 + 0.1 * np.abs(pred_n[i]):\n",
    "            label[i] *= -1\n",
    "            mislabel += 1\n",
    "    return x, label, mislabel/num"
   ]
  },
  {
   "cell_type": "markdown",
   "metadata": {},
   "source": [
    "## Model class"
   ]
  },
  {
   "cell_type": "code",
   "execution_count": 4,
   "metadata": {},
   "outputs": [],
   "source": [
    "class SVM1: # with soft margin\n",
    "    def __init__(self,C,maxIter):\n",
    "        \"\"\"\n",
    "        Parameters:\n",
    "        C: a constant\n",
    "        maxIter: the maximum iteration number \n",
    "        \"\"\"\n",
    "        self.C = C\n",
    "        self.maxIter = maxIter\n",
    "       \n",
    "    def args(self,x,y):\n",
    "        self.b = 0.0\n",
    "        self.m = np.shape(x)[0]\n",
    "        self.n = np.shape(x)[1]\n",
    "        self.x = x\n",
    "        self.y = y\n",
    "\n",
    "        self.alpha = np.zeros(self.m)\n",
    "        self.eCache = [self.calculate_ei(i) for i in range(self.m)] # save all the ei in a list\n",
    "        self.err = [abs(y[i] * self.fxi(i) - 1) for i in range(self.m)] # the degree that betray KKT\n",
    "\n",
    "    def KKT(self,i): # satisfy KKT\n",
    "        temp = self.fxi(i) * self.y[i]\n",
    "\n",
    "        if self.alpha[i] == 0:\n",
    "            return temp >= 1\n",
    "        elif 0 < self.alpha[i] < self.C:\n",
    "            return temp == 1\n",
    "        elif self.alpha[i] == self.C:\n",
    "            return temp <= 1\n",
    "    \n",
    "    def fxi(self,i):\n",
    "        r = 0\n",
    "        for j in range(self.m):\n",
    "            r += self.alpha[j] * self.y[j] * np.dot(self.x[i],self.x[j])\n",
    "        return r + self.b\n",
    "\n",
    "    def calculate_ei(self,i):\n",
    "        \"\"\"\n",
    "        Calculate error: ei = fxi - yi\n",
    "        \"\"\"\n",
    "        return self.fxi(i) - self.y[i]\n",
    "\n",
    "    def clip_alpha(self,aj,H,L):\n",
    "        if aj > H:\n",
    "            aj = H\n",
    "        if aj < L:\n",
    "            aj = L\n",
    "        return aj\n",
    "\n",
    "    def initalpha(self):\n",
    "        temp = 0.0\n",
    "        for i in range(self.m):\n",
    "            if self.KKT(i): # satisfy KKT\n",
    "                continue\n",
    "            else:\n",
    "                erri = self.err[i]\n",
    "                if erri > temp:\n",
    "                    temp = erri\n",
    "                    new_i = i\n",
    "                else:\n",
    "                    continue\n",
    "\n",
    "        ei = self.eCache[new_i]\n",
    "        if ei >= 0: # find the maximum gap between i and j\n",
    "            j = min(range(self.m),key = lambda x: self.eCache[x])\n",
    "        else:\n",
    "            j = max(range(self.m),key = lambda x: self.eCache[x])\n",
    "        return new_i,j\n",
    "\n",
    "    def fit(self,X,y):\n",
    "        self.args(X,y)\n",
    "\n",
    "        for t in range(self.maxIter):\n",
    "            i,j = self.initalpha()\n",
    "\n",
    "            if(self.y[i] != self.y[j]):\n",
    "                zeta = self.alpha[i] - self.alpha[j]\n",
    "                L = max(0,-zeta) # lower bounds\n",
    "                H = min(self.C,self.C - zeta) # upper bounds\n",
    "            else:\n",
    "                zeta = self.alpha[i] + self.alpha[j]\n",
    "                L = max(0,zeta - self.C)\n",
    "                H = min(zeta,self.C)\n",
    "\n",
    "            ei = self.eCache[i]\n",
    "            ej = self.eCache[j]\n",
    "\n",
    "            eta = np.dot(self.x[i],self.x[i]) + np.dot(self.x[j],self.x[j]) - 2 * np.dot(self.x[i],self.x[j]) \n",
    "            if eta <= 0:\n",
    "                continue\n",
    "            alphaj_new = self.alpha[j] + self.y[j] * (ei - ej)/eta\n",
    "            alphaj_new = self.clip_alpha(alphaj_new,H,L)\n",
    "            alphai_new = self.alpha[i] + self.y[i] * self.y[j] * (self.alpha[j] - alphaj_new)\n",
    "\n",
    "            # renew the  \n",
    "            self.alpha[i] = alphai_new\n",
    "            self.alpha[j] = alphaj_new\n",
    "\n",
    "            self.eCache[i] = self.calculate_ei(i)\n",
    "            self.eCache[j] = self.calculate_ei(j)\n",
    "            self.err[i] = abs(y[i] * self.fxi(i) - 1)\n",
    "            self.err[j] = abs(y[j] * self.fxi(j) - 1)\n",
    "\n",
    "            # renew b\n",
    "            support = []\n",
    "            for i in range(self.alpha.shape[0]):\n",
    "                if 0 < self.alpha[i] < self.C:\n",
    "                    support.append(i)\n",
    "            num = len(support)\n",
    "            ans = 0\n",
    "            for s in range(num):\n",
    "                temp = 0\n",
    "                for j in range(num):\n",
    "                    temp += self.alpha[j] * y[j] * np.dot(self.x[j],self.x[s])\n",
    "                ans += (1/self.y[s] - temp)\n",
    "            \n",
    "            self.b = ans / num \n",
    "        \n",
    "        return 'train done!'\n",
    "\n",
    "    def predict(self, X):\n",
    "        \"\"\"\n",
    "        Use the trained model to generate prediction probabilities on a new\n",
    "        collection of data points.\n",
    "        \"\"\"\n",
    "        ans = 0\n",
    "        for i in range(len(X)):\n",
    "            ans += self.alpha[i] * self.y[i] * np.dot(self.x[i],X)\n",
    "        ans += self.b\n",
    "        if ans > 0:\n",
    "            return 1\n",
    "        else:\n",
    "            return -1\n",
    "\n",
    "    def accuracy(self,X,y):\n",
    "        right_count = 0\n",
    "        for i in range(X.shape[0]):\n",
    "            result = self.predict(X[i])\n",
    "            if result == y[i]:\n",
    "                right_count += 1\n",
    "        return right_count / X.shape[0]"
   ]
  },
  {
   "cell_type": "code",
   "execution_count": 5,
   "metadata": {},
   "outputs": [],
   "source": [
    "class SVM2: # gradient decreasing method\n",
    "    def __init__(self, dim, maxIter, learning_rate, W):\n",
    "        \"\"\"\n",
    "        Parameters:\n",
    "        dim: the number of attributes\n",
    "        maxIter: the maximum iteration number\n",
    "        learning_rate: learning_rate\n",
    "        W: the weight\n",
    "        \"\"\"\n",
    "        self.dim = dim\n",
    "        self.maxIter = maxIter\n",
    "        self.learning_rate = learning_rate\n",
    "        self.W = W\n",
    "\n",
    "    def fit(self, X, y):\n",
    "        \"\"\"\n",
    "        Fit the coefficients via gradient decrease methods\n",
    "        X: train set\n",
    "        y: the label of train set\n",
    "        \"\"\"\n",
    "        X = X.T\n",
    "        temp = np.zeros(X.shape[1])\n",
    "        # add a row which is all 1\n",
    "        X = np.row_stack((X,temp))\n",
    "        d = X.shape[0] - 1\n",
    "\n",
    "        grad = np.zeros(self.W.shape)\n",
    "        for iter in range(self.maxIter):\n",
    "            for i in range(d):\n",
    "                ans = 0\n",
    "                for n in range(len(y)):\n",
    "                    if y[n] * np.dot(self.W.T,X[:,n]) < 1:\n",
    "                        ans += (-y[n] * X[i][n])\n",
    "                    else:\n",
    "                        ans += 0\n",
    "                grad[i] = ans\n",
    "                self.W[i] -= self.learning_rate * grad[i]\n",
    "\n",
    "\n",
    "    def predict(self, X):\n",
    "        \"\"\"\n",
    "        Use the trained model to generate prediction probabilities on a new\n",
    "        collection of data points.\n",
    "        \"\"\"\n",
    "        X = X.T\n",
    "        temp = np.zeros(X.shape[1])\n",
    "        # add a row which is all 1\n",
    "        X = np.row_stack((X,temp))\n",
    "\n",
    "        pred = []\n",
    "        for i in range(X.shape[1]):\n",
    "            pred.append(np.dot(self.W.T,X[:,i]))\n",
    "\n",
    "        for i in range(X.shape[1]):\n",
    "            if pred[i] > 0:\n",
    "                pred[i] = 1\n",
    "            else:\n",
    "                pred[i] = -1\n",
    "        return pred\n",
    "\n",
    "    def accuracy(self, X, y):\n",
    "        right_count = 0\n",
    "        ans = self.predict(X)\n",
    "        for i in range(len(y)):\n",
    "            if ans[i] == y[i]:\n",
    "                right_count += 1\n",
    "        return right_count / len(X)\n",
    "    \n",
    "    def watch(self,X):\n",
    "        print(self.predict(X))"
   ]
  },
  {
   "cell_type": "markdown",
   "metadata": {},
   "source": [
    "## Construct and train the models"
   ]
  },
  {
   "cell_type": "code",
   "execution_count": 6,
   "metadata": {},
   "outputs": [
    {
     "name": "stdout",
     "output_type": "stream",
     "text": [
      "The mislabel is 0.029\n"
     ]
    }
   ],
   "source": [
    "# generate data\n",
    "m = 10 # dimension of sample\n",
    "n = 1000 # number of sample\n",
    "X_data,y_data,mislabel = generate_data(m,n)\n",
    "print(\"The mislabel is\",mislabel)"
   ]
  },
  {
   "cell_type": "code",
   "execution_count": 7,
   "metadata": {},
   "outputs": [],
   "source": [
    "# split data by choosing 75% as train set\n",
    "k = int(0.75*n)\n",
    "X_train = X_data[0:k]\n",
    "y_train = y_data[0:k]\n",
    "X_test = X_data[k:n]\n",
    "y_test = y_data[k:n]"
   ]
  },
  {
   "cell_type": "markdown",
   "metadata": {},
   "source": [
    "#### SMO"
   ]
  },
  {
   "cell_type": "code",
   "execution_count": null,
   "metadata": {},
   "outputs": [],
   "source": [
    "# construct model and train\n",
    "start = time.time()\n",
    "model1 = SVM1(C = 1.0,maxIter = 100)\n",
    "model1.fit(X_train,y_train)\n",
    "end = time.time()\n",
    "print(\"SVM1's time is: {:.4f} seconds.\".format(end - start))"
   ]
  },
  {
   "cell_type": "markdown",
   "metadata": {},
   "source": [
    "#### Gradient decrease"
   ]
  },
  {
   "cell_type": "code",
   "execution_count": 8,
   "metadata": {},
   "outputs": [
    {
     "name": "stdout",
     "output_type": "stream",
     "text": [
      "SVM2's time is: 45.4348 seconds.\n"
     ]
    }
   ],
   "source": [
    "# construct model and train\n",
    "dim1 = X_train.shape[1] # the number of attributes\n",
    "W = np.zeros((dim1 + 1,1))\n",
    "start = time.time()\n",
    "model2 = SVM2(dim1,1000,0.01,W)\n",
    "model2.fit(X_train,y_train)\n",
    "end = time.time()\n",
    "print(\"SVM2's time is: {:.4f} seconds.\".format(end - start))"
   ]
  },
  {
   "cell_type": "markdown",
   "metadata": {},
   "source": [
    "## Predict and compare the results"
   ]
  },
  {
   "cell_type": "code",
   "execution_count": null,
   "metadata": {},
   "outputs": [],
   "source": [
    "# SVM1\n",
    "print(\"SVM1's test accuracy: {:.4f}\".format(model1.accuracy(X_test,y_test)))\n",
    "# SVM2\n",
    "print(\"SVM2's test accuracy:{:.4f}\".format(model2.accuracy(X_test,y_test)))"
   ]
  },
  {
   "cell_type": "code",
   "execution_count": null,
   "metadata": {},
   "outputs": [],
   "source": [
    "# using sklearn:\n",
    "from sklearn.svm import SVC\n",
    "start = time.time()\n",
    "clf = SVC(kernel = \"linear\")    \n",
    "clf.fit(X_train,y_train)\n",
    "end = time.time()\n",
    "accuracy = clf.score(X_test,y_test)\n",
    "print(\"The test accuracy of SVM in sklearn is: {:.4f}\".format(accuracy))\n",
    "print(\"Sklearn time is: {:.4f} seconds.\".format(end - start))"
   ]
  }
 ],
 "metadata": {
  "kernelspec": {
   "display_name": "Python 3.10.5 64-bit",
   "language": "python",
   "name": "python3"
  },
  "language_info": {
   "codemirror_mode": {
    "name": "ipython",
    "version": 3
   },
   "file_extension": ".py",
   "mimetype": "text/x-python",
   "name": "python",
   "nbconvert_exporter": "python",
   "pygments_lexer": "ipython3",
   "version": "3.10.5"
  },
  "orig_nbformat": 4,
  "vscode": {
   "interpreter": {
    "hash": "fbc768028c3e6ead51d9a200ddcb2ec858ae62844dcd1994729a8279be9b48f2"
   }
  }
 },
 "nbformat": 4,
 "nbformat_minor": 2
}
