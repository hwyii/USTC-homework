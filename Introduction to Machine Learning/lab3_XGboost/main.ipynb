{
 "cells": [
  {
   "cell_type": "code",
   "execution_count": 3,
   "metadata": {},
   "outputs": [],
   "source": [
    "import pandas as pd\n",
    "import numpy as np"
   ]
  },
  {
   "cell_type": "markdown",
   "metadata": {},
   "source": [
    "### XGBoost"
   ]
  },
  {
   "cell_type": "code",
   "execution_count": 57,
   "metadata": {},
   "outputs": [],
   "source": [
    "class XGBoost:\n",
    "    def __init__(self, \n",
    "                 base_score = 0.5,\n",
    "                 max_depth = 3,\n",
    "                 M = 10,\n",
    "                 lambd = 1,\n",
    "                 gamma = 0,\n",
    "                 min_sample = 1):\n",
    "        \n",
    "        self.base_score = base_score  # 最开始时给叶子节点权重所赋的值\n",
    "        self.max_depth = max_depth  # 树最大深度\n",
    "        self.M = M  # 树的个数\n",
    "        self.lambd = lambd  # L2正则项的参数\n",
    "        self.gamma = gamma  # 叶子节点数T的参数\n",
    "        self.min_sample = min_sample # 每个叶子节点的样本数\n",
    "        self.tree_structure = {} # 用一个字典来存储每一棵树的树结构\n",
    "        self.plot = True\n",
    "        \n",
    "\n",
    "    # 回归树算法\n",
    "    def _build_tree(self, X, w, depth):\n",
    "        '''\n",
    "        递归建树\n",
    "        w:每个样本的权重\n",
    "        depth:树的深度\n",
    "        '''\n",
    "        \n",
    "        if depth > self.max_depth: # 达到最大训练棵树直接退出\n",
    "            return\n",
    "        \n",
    "        best_feature, best_f_value = None, None # 初始化特征和最优划分\n",
    "        \n",
    "        max_gain = 0 # 记录最大增益\n",
    "        G_left_best, G_right_best, H_left_best, H_right_best = 0,0,0,0\n",
    "        \n",
    "        for feature in [x for x in X.columns if x not in ['g','h','y']]: # 遍历所有特征\n",
    "            for f_value in list(set(X[feature])): # 遍历对应特征的所有划分点\n",
    "                \n",
    "                # 如果分裂后左右样本数目都小于指定值则退出\n",
    "                if self.min_sample:\n",
    "                    if (X.loc[X[feature] < f_value].shape[0] < self.min_sample)\\\n",
    "                        |(X.loc[X[feature] >= f_value].shape[0] < self.min_sample):\n",
    "                        continue\n",
    "                \n",
    "                # 计算划分后对应的一阶导和二阶导\n",
    "                G_left = X.loc[X[feature] < f_value,'g'].sum()\n",
    "                G_right = X.loc[X[feature] >= f_value,'g'].sum()\n",
    "                H_left = X.loc[X[feature] < f_value,'h'].sum()\n",
    "                H_right = X.loc[X[feature] >= f_value,'h'].sum()\n",
    "               \n",
    "                # 计算某次分裂带来的增益\n",
    "                gain = G_left**2/(H_left + self.lambd) + \\\n",
    "                       G_right**2/(H_right + self.lambd) - \\\n",
    "                       (G_left + G_right)**2/(H_left + H_right + self.lambd)\n",
    "                gain = gain/2 - self.gamma\n",
    "                if gain > max_gain:\n",
    "                    best_feature, best_f_value = feature, f_value\n",
    "                    max_gain = gain\n",
    "                    G_left_best, G_right_best, H_left_best, H_right_best = G_left, G_right, H_left, H_right\n",
    "\n",
    "                if best_feature is None:\n",
    "                    return None\n",
    "        \n",
    "        #给每个叶子节点上的样本分别赋上相应的权重值\n",
    "        id_left = X.loc[X[best_feature] < best_f_value].index.tolist()\n",
    "        w_left = - G_left_best / (H_left_best + self.lambd)\n",
    "\n",
    "        id_right = X.loc[X[best_feature] >= best_f_value].index.tolist()\n",
    "        w_right = - G_right_best / (H_right_best + self.lambd)\n",
    "        \n",
    "        w[id_left] = w_left\n",
    "        w[id_right] = w_right\n",
    "        \n",
    "        #用json串把树的结构给存下来\n",
    "        tree_structure = {(best_feature,best_f_value):{}}\n",
    "        tree_structure[(best_feature,best_f_value)][('left',w_left)] = self._build_tree(X.loc[id_left], w, depth + 1)\n",
    "        tree_structure[(best_feature,best_f_value)][('right',w_right)] = self._build_tree(X.loc[id_right], w, depth + 1)\n",
    "                \n",
    "        return tree_structure\n",
    "\n",
    "    \n",
    "    def _cal_grad(self, y_hat, Y):\n",
    "        '''\n",
    "        计算目标函数的一阶导\n",
    "        '''\n",
    "        return 2* (y_hat - Y)\n",
    "\n",
    "    def _cal_hess(self,y_hat, Y):\n",
    "        '''\n",
    "        计算目标函数的二阶导\n",
    "        '''\n",
    "        return np.array([2]*Y.shape[0])\n",
    "    \n",
    "    def fit(self, X, Y):\n",
    "        '''\n",
    "        根据训练数据集X和Y训练出树结构和权重\n",
    "        '''\n",
    "        X = X.reset_index(drop = 'True')\n",
    "        Y = Y.values\n",
    "        error_table = [] # 记录错误\n",
    "        # 将base_score设为Y的均值\n",
    "        self.base_score = np.mean(Y)\n",
    "        y_hat = np.array([self.base_score]*Y.shape[0])\n",
    "        error = np.sum((y_hat - Y)**2)\n",
    "        error_table.append(error)\n",
    "        for t in range(self.M):\n",
    "            \n",
    "            X['g'] = self._cal_grad(y_hat, Y)\n",
    "            X['h'] = self._cal_hess(y_hat, Y)\n",
    "            \n",
    "            f_t = pd.Series([0]*Y.shape[0])\n",
    "            self.tree_structure[t+1] = self._build_tree(X, f_t, 1)\n",
    "\n",
    "            y_hat = y_hat + f_t # 对预测值更新\n",
    "            error = np.sum((y_hat - Y)**2)\n",
    "            error_table.append(error)\n",
    "        \n",
    "        if self.plot:\n",
    "            from matplotlib import pyplot as plt\n",
    "            plt.title('error ratio of training')\n",
    "            plt.xlabel('Tree Number')\n",
    "            plt.ylabel('Error')\n",
    "            x = list(range(self.M+1))\n",
    "            plt.plot(x, error_table)\n",
    "            plt.show()\n",
    "\n",
    "    def _get_tree_node_w(self, X, tree, w):\n",
    "        # 把权重赋给w\n",
    "        if not tree is None:\n",
    "            k = list(tree.keys())[0]\n",
    "            feat,f_value = k[0],k[1]\n",
    "            X_left = X.loc[X[feat] < f_value]\n",
    "            id_left = X_left.index.tolist()\n",
    "            X_right = X.loc[X[feat] >= f_value]\n",
    "            id_right = X_right.index.tolist()\n",
    "            for kk in tree[k].keys():\n",
    "                if kk[0] == 'left':\n",
    "                    tree_left = tree[k][kk]\n",
    "                    w[id_left] = kk[1]\n",
    "                elif kk[0] == 'right':\n",
    "                    tree_right = tree[k][kk]\n",
    "                    w[id_right] = kk[1]\n",
    "        \n",
    "            self._get_tree_node_w(X_left, tree_left, w)\n",
    "            self._get_tree_node_w(X_right, tree_right, w)\n",
    "\n",
    "    def predict(self, X):\n",
    "        X = X.reset_index(drop='True')\n",
    "        Y = pd.Series([self.base_score]*X.shape[0])\n",
    "\n",
    "        for t in range(self.M):\n",
    "            tree = self.tree_structure[t+1]\n",
    "            y_hat = pd.Series([0]*X.shape[0]) # 初始化\n",
    "            self._get_tree_node_w(X, tree, y_hat)\n",
    "            Y = Y + y_hat\n",
    "            \n",
    "        return Y"
   ]
  },
  {
   "cell_type": "markdown",
   "metadata": {},
   "source": [
    "### Load the data"
   ]
  },
  {
   "cell_type": "code",
   "execution_count": 52,
   "metadata": {},
   "outputs": [
    {
     "name": "stderr",
     "output_type": "stream",
     "text": [
      "C:\\Users\\DELL\\AppData\\Local\\Temp\\ipykernel_9152\\1061405684.py:5: ParserWarning: Falling back to the 'python' engine because the 'c' engine does not support regex separators (separators > 1 char and different from '\\s+' are interpreted as regex); you can avoid this warning by specifying engine='python'.\n",
      "  df = pd.read_table(\"train.data.txt\",sep = ', ',header=None)\n"
     ]
    }
   ],
   "source": [
    "# Load the dataset\n",
    "import numpy as np\n",
    "import pandas as pd\n",
    "from math import *\n",
    "df = pd.read_table(\"train.data.txt\",sep = ', ',header=None)\n",
    "# Split train set and test set\n",
    "# Choosing 75% as train set\n",
    "row = df.shape[0]\n",
    "col = df.shape[1]\n",
    "k = int(0.75*row)\n",
    "train = df[0:k]\n",
    "test = df[k:row]\n",
    "X_train = train.iloc[:,0:col-1]\n",
    "y_train = train.iloc[:,col-1]\n",
    "X_test = test.iloc[:,0:col-1]\n",
    "y_test = test.iloc[:,col-1]"
   ]
  },
  {
   "cell_type": "markdown",
   "metadata": {},
   "source": [
    "### Train the model"
   ]
  },
  {
   "cell_type": "code",
   "execution_count": 65,
   "metadata": {},
   "outputs": [
    {
     "data": {
      "image/png": "[encoded data removed]",
      "text/plain": [
       "<Figure size 432x288 with 1 Axes>"
      ]
     },
     "metadata": {
      "needs_background": "light"
     },
     "output_type": "display_data"
    }
   ],
   "source": [
    "model = XGBoost(M = 10, max_depth = 3, lambd = 1)\n",
    "model.fit(X_train,y_train)"
   ]
  },
  {
   "cell_type": "markdown",
   "metadata": {},
   "source": [
    "### Predict"
   ]
  },
  {
   "cell_type": "code",
   "execution_count": 66,
   "metadata": {},
   "outputs": [
    {
     "name": "stdout",
     "output_type": "stream",
     "text": [
      "The RMSE is  0.0001978310618562626\n"
     ]
    }
   ],
   "source": [
    "y_pred = model.predict(X_test)\n",
    "delta = np.array(y_test) - np.array(y_pred)\n",
    "delta_norm = np.linalg.norm(delta)\n",
    "RMSE = delta_norm / sqrt(X_test.shape[0])\n",
    "print(\"The RMSE is \",RMSE)"
   ]
  }
 ],
 "metadata": {
  "kernelspec": {
   "display_name": "Python 3.10.5 64-bit",
   "language": "python",
   "name": "python3"
  },
  "language_info": {
   "codemirror_mode": {
    "name": "ipython",
    "version": 3
   },
   "file_extension": ".py",
   "mimetype": "text/x-python",
   "name": "python",
   "nbconvert_exporter": "python",
   "pygments_lexer": "ipython3",
   "version": "3.10.5"
  },
  "orig_nbformat": 4,
  "vscode": {
   "interpreter": {
    "hash": "fbc768028c3e6ead51d9a200ddcb2ec858ae62844dcd1994729a8279be9b48f2"
   }
  }
 },
 "nbformat": 4,
 "nbformat_minor": 2
}
