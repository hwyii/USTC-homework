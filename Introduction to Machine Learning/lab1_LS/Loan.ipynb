{
 "cells": [
  {
   "cell_type": "markdown",
   "metadata": {},
   "source": [
    "## Load Dataset"
   ]
  },
  {
   "cell_type": "code",
   "execution_count": 1,
   "metadata": {},
   "outputs": [
    {
     "data": {
      "text/html": [
       "<div>\n",
       "<style scoped>\n",
       "    .dataframe tbody tr th:only-of-type {\n",
       "        vertical-align: middle;\n",
       "    }\n",
       "\n",
       "    .dataframe tbody tr th {\n",
       "        vertical-align: top;\n",
       "    }\n",
       "\n",
       "    .dataframe thead th {\n",
       "        text-align: right;\n",
       "    }\n",
       "</style>\n",
       "<table border=\"1\" class=\"dataframe\">\n",
       "  <thead>\n",
       "    <tr style=\"text-align: right;\">\n",
       "      <th></th>\n",
       "      <th>Loan_ID</th>\n",
       "      <th>Gender</th>\n",
       "      <th>Married</th>\n",
       "      <th>Dependents</th>\n",
       "      <th>Education</th>\n",
       "      <th>Self_Employed</th>\n",
       "      <th>ApplicantIncome</th>\n",
       "      <th>CoapplicantIncome</th>\n",
       "      <th>LoanAmount</th>\n",
       "      <th>Loan_Amount_Term</th>\n",
       "      <th>Credit_History</th>\n",
       "      <th>Property_Area</th>\n",
       "      <th>Loan_Status</th>\n",
       "    </tr>\n",
       "  </thead>\n",
       "  <tbody>\n",
       "    <tr>\n",
       "      <th>0</th>\n",
       "      <td>LP001002</td>\n",
       "      <td>Male</td>\n",
       "      <td>No</td>\n",
       "      <td>0</td>\n",
       "      <td>Graduate</td>\n",
       "      <td>No</td>\n",
       "      <td>5849</td>\n",
       "      <td>0.0</td>\n",
       "      <td>NaN</td>\n",
       "      <td>360.0</td>\n",
       "      <td>1.0</td>\n",
       "      <td>Urban</td>\n",
       "      <td>Y</td>\n",
       "    </tr>\n",
       "    <tr>\n",
       "      <th>1</th>\n",
       "      <td>LP001003</td>\n",
       "      <td>Male</td>\n",
       "      <td>Yes</td>\n",
       "      <td>1</td>\n",
       "      <td>Graduate</td>\n",
       "      <td>No</td>\n",
       "      <td>4583</td>\n",
       "      <td>1508.0</td>\n",
       "      <td>128.0</td>\n",
       "      <td>360.0</td>\n",
       "      <td>1.0</td>\n",
       "      <td>Rural</td>\n",
       "      <td>N</td>\n",
       "    </tr>\n",
       "    <tr>\n",
       "      <th>2</th>\n",
       "      <td>LP001005</td>\n",
       "      <td>Male</td>\n",
       "      <td>Yes</td>\n",
       "      <td>0</td>\n",
       "      <td>Graduate</td>\n",
       "      <td>Yes</td>\n",
       "      <td>3000</td>\n",
       "      <td>0.0</td>\n",
       "      <td>66.0</td>\n",
       "      <td>360.0</td>\n",
       "      <td>1.0</td>\n",
       "      <td>Urban</td>\n",
       "      <td>Y</td>\n",
       "    </tr>\n",
       "    <tr>\n",
       "      <th>3</th>\n",
       "      <td>LP001006</td>\n",
       "      <td>Male</td>\n",
       "      <td>Yes</td>\n",
       "      <td>0</td>\n",
       "      <td>Not Graduate</td>\n",
       "      <td>No</td>\n",
       "      <td>2583</td>\n",
       "      <td>2358.0</td>\n",
       "      <td>120.0</td>\n",
       "      <td>360.0</td>\n",
       "      <td>1.0</td>\n",
       "      <td>Urban</td>\n",
       "      <td>Y</td>\n",
       "    </tr>\n",
       "    <tr>\n",
       "      <th>4</th>\n",
       "      <td>LP001008</td>\n",
       "      <td>Male</td>\n",
       "      <td>No</td>\n",
       "      <td>0</td>\n",
       "      <td>Graduate</td>\n",
       "      <td>No</td>\n",
       "      <td>6000</td>\n",
       "      <td>0.0</td>\n",
       "      <td>141.0</td>\n",
       "      <td>360.0</td>\n",
       "      <td>1.0</td>\n",
       "      <td>Urban</td>\n",
       "      <td>Y</td>\n",
       "    </tr>\n",
       "  </tbody>\n",
       "</table>\n",
       "</div>"
      ],
      "text/plain": [
       "    Loan_ID Gender Married Dependents     Education Self_Employed  \\\n",
       "0  LP001002   Male      No          0      Graduate            No   \n",
       "1  LP001003   Male     Yes          1      Graduate            No   \n",
       "2  LP001005   Male     Yes          0      Graduate           Yes   \n",
       "3  LP001006   Male     Yes          0  Not Graduate            No   \n",
       "4  LP001008   Male      No          0      Graduate            No   \n",
       "\n",
       "   ApplicantIncome  CoapplicantIncome  LoanAmount  Loan_Amount_Term  \\\n",
       "0             5849                0.0         NaN             360.0   \n",
       "1             4583             1508.0       128.0             360.0   \n",
       "2             3000                0.0        66.0             360.0   \n",
       "3             2583             2358.0       120.0             360.0   \n",
       "4             6000                0.0       141.0             360.0   \n",
       "\n",
       "   Credit_History Property_Area Loan_Status  \n",
       "0             1.0         Urban           Y  \n",
       "1             1.0         Rural           N  \n",
       "2             1.0         Urban           Y  \n",
       "3             1.0         Urban           Y  \n",
       "4             1.0         Urban           Y  "
      ]
     },
     "execution_count": 1,
     "metadata": {},
     "output_type": "execute_result"
    }
   ],
   "source": [
    "import numpy as np\n",
    "import pandas as pd\n",
    "df = pd.read_csv('loan.csv')\n",
    "df.head() # View the data"
   ]
  },
  {
   "cell_type": "markdown",
   "metadata": {},
   "source": [
    "## Dataset Info"
   ]
  },
  {
   "cell_type": "code",
   "execution_count": 2,
   "metadata": {},
   "outputs": [
    {
     "name": "stdout",
     "output_type": "stream",
     "text": [
      "<class 'pandas.core.frame.DataFrame'>\n",
      "RangeIndex: 614 entries, 0 to 613\n",
      "Data columns (total 13 columns):\n",
      " #   Column             Non-Null Count  Dtype  \n",
      "---  ------             --------------  -----  \n",
      " 0   Loan_ID            614 non-null    object \n",
      " 1   Gender             601 non-null    object \n",
      " 2   Married            611 non-null    object \n",
      " 3   Dependents         599 non-null    object \n",
      " 4   Education          614 non-null    object \n",
      " 5   Self_Employed      582 non-null    object \n",
      " 6   ApplicantIncome    614 non-null    int64  \n",
      " 7   CoapplicantIncome  614 non-null    float64\n",
      " 8   LoanAmount         592 non-null    float64\n",
      " 9   Loan_Amount_Term   600 non-null    float64\n",
      " 10  Credit_History     564 non-null    float64\n",
      " 11  Property_Area      614 non-null    object \n",
      " 12  Loan_Status        614 non-null    object \n",
      "dtypes: float64(4), int64(1), object(8)\n",
      "memory usage: 62.5+ KB\n"
     ]
    }
   ],
   "source": [
    "df.info()"
   ]
  },
  {
   "cell_type": "markdown",
   "metadata": {},
   "source": [
    "## Data Cleaning"
   ]
  },
  {
   "cell_type": "code",
   "execution_count": 3,
   "metadata": {},
   "outputs": [
    {
     "data": {
      "text/plain": [
       "Gender               13\n",
       "Married               3\n",
       "Dependents           15\n",
       "Education             0\n",
       "Self_Employed        32\n",
       "ApplicantIncome       0\n",
       "CoapplicantIncome     0\n",
       "LoanAmount           22\n",
       "Loan_Amount_Term     14\n",
       "Credit_History       50\n",
       "Property_Area         0\n",
       "Loan_Status           0\n",
       "dtype: int64"
      ]
     },
     "execution_count": 3,
     "metadata": {},
     "output_type": "execute_result"
    }
   ],
   "source": [
    "# We deal with NULL rows to finish task1\n",
    "df.drop(\"Loan_ID\", axis=1, inplace=True)\n",
    "# checking the Missing Values\n",
    "df.isnull().sum()"
   ]
  },
  {
   "cell_type": "code",
   "execution_count": 4,
   "metadata": {},
   "outputs": [],
   "source": [
    "# We choose to drop the NULL rows\n",
    "new_df = df.dropna()"
   ]
  },
  {
   "cell_type": "markdown",
   "metadata": {},
   "source": [
    "## Encode"
   ]
  },
  {
   "cell_type": "code",
   "execution_count": 5,
   "metadata": {},
   "outputs": [
    {
     "name": "stderr",
     "output_type": "stream",
     "text": [
      "C:\\Users\\DELL\\AppData\\Local\\Temp\\ipykernel_12640\\3317557441.py:2: SettingWithCopyWarning: \n",
      "A value is trying to be set on a copy of a slice from a DataFrame.\n",
      "Try using .loc[row_indexer,col_indexer] = value instead\n",
      "\n",
      "See the caveats in the documentation: https://pandas.pydata.org/pandas-docs/stable/user_guide/indexing.html#returning-a-view-versus-a-copy\n",
      "  new_df.Gender = new_df.Gender.map({'Male':1,'Female':0})\n",
      "C:\\Users\\DELL\\AppData\\Local\\Temp\\ipykernel_12640\\3317557441.py:3: SettingWithCopyWarning: \n",
      "A value is trying to be set on a copy of a slice from a DataFrame.\n",
      "Try using .loc[row_indexer,col_indexer] = value instead\n",
      "\n",
      "See the caveats in the documentation: https://pandas.pydata.org/pandas-docs/stable/user_guide/indexing.html#returning-a-view-versus-a-copy\n",
      "  new_df.Married = new_df.Married.map({'Yes':1,'No':0})\n",
      "C:\\Users\\DELL\\AppData\\Local\\Temp\\ipykernel_12640\\3317557441.py:4: SettingWithCopyWarning: \n",
      "A value is trying to be set on a copy of a slice from a DataFrame.\n",
      "Try using .loc[row_indexer,col_indexer] = value instead\n",
      "\n",
      "See the caveats in the documentation: https://pandas.pydata.org/pandas-docs/stable/user_guide/indexing.html#returning-a-view-versus-a-copy\n",
      "  new_df.Dependents = new_df.Dependents.map({'0':0,'1':1,'2':2,'3+':3})\n",
      "C:\\Users\\DELL\\AppData\\Local\\Temp\\ipykernel_12640\\3317557441.py:5: SettingWithCopyWarning: \n",
      "A value is trying to be set on a copy of a slice from a DataFrame.\n",
      "Try using .loc[row_indexer,col_indexer] = value instead\n",
      "\n",
      "See the caveats in the documentation: https://pandas.pydata.org/pandas-docs/stable/user_guide/indexing.html#returning-a-view-versus-a-copy\n",
      "  new_df.Education = new_df.Education.map({'Graduate':1,'Not Graduate':0})\n",
      "C:\\Users\\DELL\\AppData\\Local\\Temp\\ipykernel_12640\\3317557441.py:6: SettingWithCopyWarning: \n",
      "A value is trying to be set on a copy of a slice from a DataFrame.\n",
      "Try using .loc[row_indexer,col_indexer] = value instead\n",
      "\n",
      "See the caveats in the documentation: https://pandas.pydata.org/pandas-docs/stable/user_guide/indexing.html#returning-a-view-versus-a-copy\n",
      "  new_df.Self_Employed = new_df.Self_Employed.map({'Yes':1,'No':0})\n",
      "C:\\Users\\DELL\\AppData\\Local\\Temp\\ipykernel_12640\\3317557441.py:7: SettingWithCopyWarning: \n",
      "A value is trying to be set on a copy of a slice from a DataFrame.\n",
      "Try using .loc[row_indexer,col_indexer] = value instead\n",
      "\n",
      "See the caveats in the documentation: https://pandas.pydata.org/pandas-docs/stable/user_guide/indexing.html#returning-a-view-versus-a-copy\n",
      "  new_df.Property_Area = new_df.Property_Area.map({'Urban':0,'Semiurban':1,'Rural':2})\n",
      "C:\\Users\\DELL\\AppData\\Local\\Temp\\ipykernel_12640\\3317557441.py:8: SettingWithCopyWarning: \n",
      "A value is trying to be set on a copy of a slice from a DataFrame.\n",
      "Try using .loc[row_indexer,col_indexer] = value instead\n",
      "\n",
      "See the caveats in the documentation: https://pandas.pydata.org/pandas-docs/stable/user_guide/indexing.html#returning-a-view-versus-a-copy\n",
      "  new_df.Loan_Status = new_df.Loan_Status.map({'Y':1,'N':0})\n"
     ]
    }
   ],
   "source": [
    "# We use label encoding\n",
    "new_df.Gender = new_df.Gender.map({'Male':1,'Female':0})\n",
    "new_df.Married = new_df.Married.map({'Yes':1,'No':0})\n",
    "new_df.Dependents = new_df.Dependents.map({'0':0,'1':1,'2':2,'3+':3})\n",
    "new_df.Education = new_df.Education.map({'Graduate':1,'Not Graduate':0})\n",
    "new_df.Self_Employed = new_df.Self_Employed.map({'Yes':1,'No':0})\n",
    "new_df.Property_Area = new_df.Property_Area.map({'Urban':0,'Semiurban':1,'Rural':2})\n",
    "new_df.Loan_Status = new_df.Loan_Status.map({'Y':1,'N':0})"
   ]
  },
  {
   "cell_type": "markdown",
   "metadata": {},
   "source": [
    "## Data process"
   ]
  },
  {
   "cell_type": "code",
   "execution_count": 6,
   "metadata": {},
   "outputs": [],
   "source": [
    "# Split the dataset by the bootstraping method, since the number\n",
    "# of the whole dataset is so small\n",
    "train_set = new_df.sample(n = new_df.shape[0],replace = True,axis = 0)\n",
    "temp = train_set.drop_duplicates()\n",
    "test_set = pd.concat([new_df,temp,temp]).drop_duplicates(keep = False)"
   ]
  },
  {
   "cell_type": "code",
   "execution_count": 7,
   "metadata": {},
   "outputs": [],
   "source": [
    "# Split X and y\n",
    "X_train = train_set.iloc[:,0:11]\n",
    "y_train = train_set['Loan_Status']\n",
    "X_test = test_set.iloc[:,0:11]\n",
    "y_test = test_set['Loan_Status']\n",
    "# Normalization(Min-Max mothod)\n",
    "X_train_norm = (X_train-X_train.min())/(X_train.max()-X_train.min())\n",
    "y_train_norm = (y_train-y_train.min())/(y_train.max()-y_train.min())\n",
    "X_test_norm = (X_test-X_test.min())/(X_test.max()-X_test.min())\n",
    "y_test_norm = (y_test-y_test.min())/(y_test.max()-y_test.min())"
   ]
  },
  {
   "cell_type": "markdown",
   "metadata": {},
   "source": [
    "## Train"
   ]
  },
  {
   "cell_type": "code",
   "execution_count": 8,
   "metadata": {},
   "outputs": [],
   "source": [
    "from Logistic import LogisticRegression\n",
    "model = LogisticRegression()\n",
    "# The train with no regularzation, the learning rate is 0.01\n",
    "cost_list,params,grads = model.Gradient_descent_train(X_train_norm,y_train_norm,0.01,10000,0,1)"
   ]
  },
  {
   "cell_type": "code",
   "execution_count": 10,
   "metadata": {},
   "outputs": [
    {
     "data": {
      "image/png": "[encoded data removed]",
      "text/plain": [
       "<Figure size 432x288 with 1 Axes>"
      ]
     },
     "metadata": {
      "needs_background": "light"
     },
     "output_type": "display_data"
    }
   ],
   "source": [
    "# Plot the loss curve of training above\n",
    "import matplotlib.pyplot as plt\n",
    "epoch = np.linspace(100,100000,100)\n",
    "plt.plot(epoch,cost_list)\n",
    "plt.title('Loss Function')\n",
    "plt.xlabel('Iteration')\n",
    "plt.ylabel('Loss')\n",
    "plt.show()"
   ]
  },
  {
   "cell_type": "markdown",
   "metadata": {},
   "source": [
    "## Test and evaluation"
   ]
  },
  {
   "cell_type": "code",
   "execution_count": 11,
   "metadata": {},
   "outputs": [],
   "source": [
    "y_train_predict = model.predict_test(X_train_norm,params)\n",
    "y_test_predict = model.predict_test(X_test_norm,params)"
   ]
  },
  {
   "cell_type": "code",
   "execution_count": 12,
   "metadata": {},
   "outputs": [
    {
     "name": "stdout",
     "output_type": "stream",
     "text": [
      "train accuracy is:  0.78125\n",
      "test accuracy is:  0.861271676300578\n"
     ]
    }
   ],
   "source": [
    "# calculate the accuracy to evaluate the model\n",
    "accuracy_score_train = model.accuracy_metric(y_train_norm,y_train_predict)\n",
    "accuracy_score_test = model.accuracy_metric(y_test_norm,y_test_predict)\n",
    "print('train accuracy is: ',accuracy_score_train)\n",
    "print('test accuracy is: ',accuracy_score_test)"
   ]
  },
  {
   "cell_type": "markdown",
   "metadata": {},
   "source": [
    "## Adjust the parameters"
   ]
  },
  {
   "cell_type": "code",
   "execution_count": null,
   "metadata": {},
   "outputs": [],
   "source": [
    "# l1 regularization with the parameters lamada = 1\n",
    "cost_list,params,grads = model.Gradient_descent_train(X_train_norm,y_train_norm,0.01,100000,1,1)\n",
    "y_train_predict = model.predict_test(X_train_norm,params)\n",
    "y_test_predict = model.predict_test(X_test_norm,params)\n",
    "accuracy_score_train = model.accuracy_metric(y_train_norm,y_train_predict)\n",
    "accuracy_score_test = model.accuracy_metric(y_test_norm,y_test_predict)\n",
    "print('train accuracy with l1 regularizationis: ',accuracy_score_train)\n",
    "print('test accuracy with l1 regularization is: ',accuracy_score_test)"
   ]
  },
  {
   "cell_type": "code",
   "execution_count": null,
   "metadata": {},
   "outputs": [],
   "source": [
    "# l2 regularization with the parameters lamada = 1\n",
    "cost_list,params,grads = model.Gradient_descent_train(X_train_norm,y_train_norm,0.01,10000,2,2)\n",
    "y_train_predict = model.predict_test(X_train_norm,params)\n",
    "y_test_predict = model.predict_test(X_test_norm,params)\n",
    "accuracy_score_train = model.accuracy_metric(y_train_norm,y_train_predict)\n",
    "accuracy_score_test = model.accuracy_metric(y_test_norm,y_test_predict)\n",
    "print('train accuracy with l2 regularization is: ',accuracy_score_train)\n",
    "print('test accuracy with l2 regularization is: ',accuracy_score_test)"
   ]
  },
  {
   "cell_type": "code",
   "execution_count": null,
   "metadata": {},
   "outputs": [],
   "source": [
    "# adjusting the learning rate with no regularization\n",
    "learning_rate = 0.05\n",
    "cost_list,params,grads = model.Gradient_descent_train(X_train_norm,y_train_norm,learning_rate,10000,0,0)\n",
    "y_train_predict = model.predict_test(X_train_norm,params)\n",
    "y_test_predict = model.predict_test(X_test_norm,params)\n",
    "accuracy_score_train = model.accuracy_metric(y_train_norm,y_train_predict)\n",
    "accuracy_score_test = model.accuracy_metric(y_test_norm,y_test_predict)\n",
    "print('train accuracy is: ',accuracy_score_train)\n",
    "print('test accuracy is: ',accuracy_score_test)"
   ]
  },
  {
   "cell_type": "markdown",
   "metadata": {},
   "source": [
    "## Optimizing Model Evaluation Methods: 5 times Bootstrapping and get the mean of accuracy\n"
   ]
  },
  {
   "cell_type": "code",
   "execution_count": 9,
   "metadata": {},
   "outputs": [
    {
     "name": "stdout",
     "output_type": "stream",
     "text": [
      "train accuracy is:  0.6766666666666666\n",
      "test accuracy is:  0.7026081888509284\n"
     ]
    }
   ],
   "source": [
    "# initialize\n",
    "accuracy_train = []\n",
    "accuracy_test = []\n",
    "\n",
    "for i in range(5):\n",
    "    train_set = new_df.sample(n = new_df.shape[0],replace = True,axis = 0)\n",
    "    temp = train_set.drop_duplicates()\n",
    "    test_set = pd.concat([new_df,temp,temp]).drop_duplicates(keep = False)\n",
    "    # Split X and y\n",
    "    X_train = train_set.iloc[:,0:11]\n",
    "    y_train = train_set['Loan_Status']\n",
    "    X_test = test_set.iloc[:,0:11]\n",
    "    y_test = test_set['Loan_Status']\n",
    "    # Normalization(Min-Max mothod)\n",
    "    X_train_norm = (X_train-X_train.min())/(X_train.max()-X_train.min())\n",
    "    y_train_norm = (y_train-y_train.min())/(y_train.max()-y_train.min())\n",
    "    X_test_norm = (X_test-X_test.min())/(X_test.max()-X_test.min())\n",
    "    y_test_norm = (y_test-y_test.min())/(y_test.max()-y_test.min())\n",
    "\n",
    "    from Logistic import LogisticRegression\n",
    "    model = LogisticRegression()\n",
    "\n",
    "    # We can adjust the parameters here\n",
    "    # Train\n",
    "    cost_list,params,grads = model.Gradient_descent_train(X_train_norm,y_train_norm,0.01,10000,2,1)\n",
    "    \n",
    "    # Test\n",
    "    y_train_predict = model.predict_test(X_train_norm,params)\n",
    "    y_test_predict = model.predict_test(X_test_norm,params)\n",
    "    # Accuracy\n",
    "    accuracy_train.append(model.accuracy_metric(y_train_norm,y_train_predict))\n",
    "    accuracy_test.append(model.accuracy_metric(y_test_norm,y_test_predict))\n",
    "\n",
    "acc_train = sum(accuracy_train)/len(accuracy_train)\n",
    "acc_test = sum(accuracy_test)/len(accuracy_test)\n",
    "\n",
    "print('train accuracy is: ',acc_train)\n",
    "print('test accuracy is: ',acc_test)"
   ]
  }
 ],
 "metadata": {
  "kernelspec": {
   "display_name": "Python 3.10.5 64-bit",
   "language": "python",
   "name": "python3"
  },
  "language_info": {
   "codemirror_mode": {
    "name": "ipython",
    "version": 3
   },
   "file_extension": ".py",
   "mimetype": "text/x-python",
   "name": "python",
   "nbconvert_exporter": "python",
   "pygments_lexer": "ipython3",
   "version": "3.10.5"
  },
  "orig_nbformat": 4,
  "vscode": {
   "interpreter": {
    "hash": "fbc768028c3e6ead51d9a200ddcb2ec858ae62844dcd1994729a8279be9b48f2"
   }
  }
 },
 "nbformat": 4,
 "nbformat_minor": 2
}
